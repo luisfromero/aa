{
 "cells": [
  {
   "cell_type": "code",
   "execution_count": 1,
   "metadata": {},
   "outputs": [],
   "source": [
    "import sys, os\n",
    "\n",
    "# Si es necesaria la instalación de paquetes\n",
    "if False:\n",
    "    os.system('pip install geopandas')\n",
    "    os.system('pip install contextily')\n",
    "    os.system('pip install dipy')\n",
    "\n",
    "\n",
    "#set up psycopg2 environment\n",
    "import psycopg2\n",
    "import geopandas as gpd\n",
    "import matplotlib.pyplot as plt\n",
    "import numpy as np\n",
    "\n",
    "#--> conda install contextily --channel conda-forge\n",
    "import contextily as ctx\n",
    "import geopy.distance\n",
    "\n",
    "\n",
    "from shapely.geometry import LineString\n",
    "from pyproj import Proj, transform\n",
    "\n",
    "\n",
    "#------------------------------------------------------------------------------------\n",
    "# Required by clustering class QuickBundles\n",
    "#------------------------------------------------------------------------------------\n",
    "import dipy \n",
    "from dipy.segment.metric import Metric\n",
    "#from dipy.segment.metric import ResampleFeature\n",
    "from dipy.segment.clustering import QuickBundles\n",
    "#------------------------------------------------------------------------------------\n"
   ]
  },
  {
   "cell_type": "markdown",
   "metadata": {},
   "source": [
    "La siguiente clase es utilizada como parámetro por el algoritmo Quickbundles. Es una herencia de la clase Metric, la que se utiliza para medir \"el parecido\" entre dos trayectos.\n",
    "\n",
    "Más información en dipy.org: [1](https://dipy.org/documentation/1.0.0./examples_built/segment_quickbundles/) y [2](https://dipy.org/documentation/1.1.1./examples_built/segment_clustering_features/)\n",
    "\n",
    "\n",
    "Incluye:\n",
    "\n",
    "1. Un conversor (ResampleFeature) que hace que los trayectos tengan exactamente 256 puntos. Se ejecuta al crear el objeto Metric sobre todos los argumentos (v1 y v2)\n",
    "\n",
    "2. Una medida de compatibilidad de los argumentos\n",
    "3. Un método para clacular la distancia"
   ]
  },
  {
   "cell_type": "code",
   "execution_count": 2,
   "metadata": {},
   "outputs": [],
   "source": [
    "class GPSDistance(Metric):\n",
    "    def __init__(self):\n",
    "        super().__init__(feature=dipy.segment.featurespeed.ResampleFeature(nb_points=256))\n",
    "        #self._geod = Geod(ellps='WGS84')\n",
    "\n",
    "    def are_compatible(self, shape_1, shape_2):\n",
    "        return len(shape_1) == len(shape_2)\n",
    "    def dist(self, v1, v2):\n",
    "        distances = [geopy.distance.distance([p[0][0],p[0][1]],[p[1][0],p[1][1]]).km for p in list(zip(v1,v2))]\n",
    "        return np.mean(distances)/1000.0"
   ]
  },
  {
   "cell_type": "markdown",
   "metadata": {},
   "source": [
    "EL siguiente método agrega un mapa OSM de fondo a un gráfico, mediante la librería Contextily\n",
    "https://contextily.readthedocs.io/en/latest/\n",
    "\n",
    "Más información de mapas teselados en esta página\n",
    "https://sgtmapabaseigo.github.io/MapaBaseIGO/referencias/mapas_teselados/"
   ]
  },
  {
   "cell_type": "code",
   "execution_count": 3,
   "metadata": {},
   "outputs": [],
   "source": [
    "#------------------------------------------------------------------------------------\n",
    "#   Base map (OpenStretMap) for visualisation\n",
    "#------------------------------------------------------------------------------------\n",
    "def add_basemap(ax, zoom, url='http://tile.stamen.com/terrain/{z}/{x}/{y}.png'):\n",
    "    xmin, xmax, ymin, ymax = ax.axis()\n",
    "    basemap, extent = ctx.bounds2img(xmin, ymin, xmax, ymax, zoom=zoom, source=url)\n",
    "    ax.imshow(basemap, extent=extent, interpolation='bilinear')\n",
    "    # restore original x/y limits\n",
    "    ax.axis((xmin, xmax, ymin, ymax))"
   ]
  },
  {
   "cell_type": "markdown",
   "metadata": {},
   "source": [
    "Step1: Stablish connection between python and postgresql and get some tracks (result)"
   ]
  },
  {
   "cell_type": "code",
   "execution_count": 4,
   "metadata": {},
   "outputs": [
    {
     "data": {
      "text/html": [
       "<div>\n",
       "<style scoped>\n",
       "    .dataframe tbody tr th:only-of-type {\n",
       "        vertical-align: middle;\n",
       "    }\n",
       "\n",
       "    .dataframe tbody tr th {\n",
       "        vertical-align: top;\n",
       "    }\n",
       "\n",
       "    .dataframe thead th {\n",
       "        text-align: right;\n",
       "    }\n",
       "</style>\n",
       "<table border=\"1\" class=\"dataframe\">\n",
       "  <thead>\n",
       "    <tr style=\"text-align: right;\">\n",
       "      <th></th>\n",
       "      <th>idtrip</th>\n",
       "      <th>tripline</th>\n",
       "      <th>distance</th>\n",
       "      <th>length</th>\n",
       "      <th>numsamples</th>\n",
       "    </tr>\n",
       "  </thead>\n",
       "  <tbody>\n",
       "    <tr>\n",
       "      <th>0</th>\n",
       "      <td>718</td>\n",
       "      <td>LINESTRING (-4.45526 36.71362, -4.45526 36.713...</td>\n",
       "      <td>14373.610674</td>\n",
       "      <td>1641.364738</td>\n",
       "      <td>142</td>\n",
       "    </tr>\n",
       "    <tr>\n",
       "      <th>1</th>\n",
       "      <td>506</td>\n",
       "      <td>LINESTRING (-4.47384 36.71488, -4.47381 36.714...</td>\n",
       "      <td>4887.678097</td>\n",
       "      <td>1826.994243</td>\n",
       "      <td>138</td>\n",
       "    </tr>\n",
       "    <tr>\n",
       "      <th>2</th>\n",
       "      <td>624</td>\n",
       "      <td>LINESTRING (-4.46760 36.71295, -4.46706 36.712...</td>\n",
       "      <td>4156.704673</td>\n",
       "      <td>1119.924500</td>\n",
       "      <td>32</td>\n",
       "    </tr>\n",
       "    <tr>\n",
       "      <th>3</th>\n",
       "      <td>410</td>\n",
       "      <td>LINESTRING (-4.45935 36.71115, -4.45921 36.711...</td>\n",
       "      <td>3517.427327</td>\n",
       "      <td>472.625104</td>\n",
       "      <td>33</td>\n",
       "    </tr>\n",
       "    <tr>\n",
       "      <th>4</th>\n",
       "      <td>673</td>\n",
       "      <td>LINESTRING (-4.46955 36.71315, -4.46949 36.713...</td>\n",
       "      <td>5511.646364</td>\n",
       "      <td>1788.754948</td>\n",
       "      <td>123</td>\n",
       "    </tr>\n",
       "    <tr>\n",
       "      <th>...</th>\n",
       "      <td>...</td>\n",
       "      <td>...</td>\n",
       "      <td>...</td>\n",
       "      <td>...</td>\n",
       "      <td>...</td>\n",
       "    </tr>\n",
       "    <tr>\n",
       "      <th>154</th>\n",
       "      <td>921</td>\n",
       "      <td>LINESTRING (-4.48291 36.71749, -4.48299 36.717...</td>\n",
       "      <td>6001.925315</td>\n",
       "      <td>2953.314172</td>\n",
       "      <td>213</td>\n",
       "    </tr>\n",
       "    <tr>\n",
       "      <th>155</th>\n",
       "      <td>892</td>\n",
       "      <td>LINESTRING (-4.48276 36.71735, -4.48290 36.717...</td>\n",
       "      <td>6014.206985</td>\n",
       "      <td>2961.997056</td>\n",
       "      <td>139</td>\n",
       "    </tr>\n",
       "    <tr>\n",
       "      <th>156</th>\n",
       "      <td>893</td>\n",
       "      <td>LINESTRING (-4.45526 36.71360, -4.45547 36.713...</td>\n",
       "      <td>5849.581742</td>\n",
       "      <td>2851.686271</td>\n",
       "      <td>126</td>\n",
       "    </tr>\n",
       "    <tr>\n",
       "      <th>157</th>\n",
       "      <td>926</td>\n",
       "      <td>LINESTRING (-4.45526 36.71359, -4.45526 36.713...</td>\n",
       "      <td>5868.614484</td>\n",
       "      <td>2883.594633</td>\n",
       "      <td>132</td>\n",
       "    </tr>\n",
       "    <tr>\n",
       "      <th>158</th>\n",
       "      <td>933</td>\n",
       "      <td>LINESTRING (-4.45526 36.71451, -4.45540 36.714...</td>\n",
       "      <td>8283.224392</td>\n",
       "      <td>1181.098547</td>\n",
       "      <td>43</td>\n",
       "    </tr>\n",
       "  </tbody>\n",
       "</table>\n",
       "<p>159 rows × 5 columns</p>\n",
       "</div>"
      ],
      "text/plain": [
       "     idtrip                                           tripline      distance  \\\n",
       "0       718  LINESTRING (-4.45526 36.71362, -4.45526 36.713...  14373.610674   \n",
       "1       506  LINESTRING (-4.47384 36.71488, -4.47381 36.714...   4887.678097   \n",
       "2       624  LINESTRING (-4.46760 36.71295, -4.46706 36.712...   4156.704673   \n",
       "3       410  LINESTRING (-4.45935 36.71115, -4.45921 36.711...   3517.427327   \n",
       "4       673  LINESTRING (-4.46955 36.71315, -4.46949 36.713...   5511.646364   \n",
       "..      ...                                                ...           ...   \n",
       "154     921  LINESTRING (-4.48291 36.71749, -4.48299 36.717...   6001.925315   \n",
       "155     892  LINESTRING (-4.48276 36.71735, -4.48290 36.717...   6014.206985   \n",
       "156     893  LINESTRING (-4.45526 36.71360, -4.45547 36.713...   5849.581742   \n",
       "157     926  LINESTRING (-4.45526 36.71359, -4.45526 36.713...   5868.614484   \n",
       "158     933  LINESTRING (-4.45526 36.71451, -4.45540 36.714...   8283.224392   \n",
       "\n",
       "          length  numsamples  \n",
       "0    1641.364738         142  \n",
       "1    1826.994243         138  \n",
       "2    1119.924500          32  \n",
       "3     472.625104          33  \n",
       "4    1788.754948         123  \n",
       "..           ...         ...  \n",
       "154  2953.314172         213  \n",
       "155  2961.997056         139  \n",
       "156  2851.686271         126  \n",
       "157  2883.594633         132  \n",
       "158  1181.098547          43  \n",
       "\n",
       "[159 rows x 5 columns]"
      ]
     },
     "execution_count": 4,
     "metadata": {},
     "output_type": "execute_result"
    }
   ],
   "source": [
    "import warnings\n",
    "warnings.filterwarnings('ignore')\n",
    "conn = psycopg2.connect(\"dbname = 'mlearn' user = 'ml_aa00' host = 'obd.ac.uma.es' password = 'vc0910$$'\")\n",
    "#cur = conn.cursor()\n",
    "sql=\"select * from pract3_trim where not st_isempty(tripline);\"\n",
    "#cur.execute(sql)\n",
    "#result = cur.fetchone()\n",
    "#cur.close()\n",
    "result = gpd.GeoDataFrame.from_postgis(sql, conn, geom_col='tripline', crs  ={'init': 'epsg:4326'} )#.to_crs(epsg=3857)\n",
    "conn.close()\n",
    "result"
   ]
  },
  {
   "cell_type": "markdown",
   "metadata": {},
   "source": [
    "Create the canvas for plotting"
   ]
  },
  {
   "cell_type": "code",
   "execution_count": 5,
   "metadata": {},
   "outputs": [
    {
     "data": {
      "image/png": "[encoded data removed]",
      "text/plain": [
       "<Figure size 640x480 with 2 Axes>"
      ]
     },
     "metadata": {},
     "output_type": "display_data"
    }
   ],
   "source": [
    "#plt.ion() #interactive... continue after plot\n",
    "#world = gpd.read_file(gpd.datasets.get_path('naturalearth_lowres'))\n",
    "#base = world.plot(color='white', edgecolor='black')\n",
    "#ax=result.plot(ax=base)\n",
    "fig = plt.figure() # \n",
    "ax1 = plt.subplot(2,1,1) \n",
    "ax2 = plt.subplot(2,1,2, sharex = ax1, sharey = ax1)"
   ]
  },
  {
   "cell_type": "markdown",
   "metadata": {},
   "source": [
    "Step 2: Store tracks in a custon array, before using QuickBundles"
   ]
  },
  {
   "cell_type": "code",
   "execution_count": 8,
   "metadata": {},
   "outputs": [
    {
     "name": "stdout",
     "output_type": "stream",
     "text": [
      "0    LINESTRING (-4.45526 36.71362, -4.45526 36.713...\n",
      "1    LINESTRING (-4.47384 36.71488, -4.47381 36.714...\n",
      "2    LINESTRING (-4.46760 36.71295, -4.46706 36.712...\n",
      "3    LINESTRING (-4.45935 36.71115, -4.45921 36.711...\n",
      "4    LINESTRING (-4.46955 36.71315, -4.46949 36.713...\n",
      "Name: tripline, dtype: geometry\n"
     ]
    },
    {
     "data": {
      "text/plain": [
       "<Figure size 640x480 with 0 Axes>"
      ]
     },
     "metadata": {},
     "output_type": "display_data"
    }
   ],
   "source": [
    "result=result['tripline']\n",
    "result3857=result.to_crs(epsg=3857)\n",
    "result3857.plot(ax=ax1)\n",
    "add_basemap(ax1, zoom=15)\n",
    "print(result.head())\n",
    "listarray = []\n",
    "#from shapely.ops import linemerge\n",
    "for track in result:\n",
    "    if track.geom_type == 'LineString':\n",
    "        x,y = track.coords.xy\n",
    "        listarray.append(np.transpose([x,y]))"
   ]
  },
  {
   "cell_type": "markdown",
   "metadata": {},
   "source": [
    "Step 3: Execute QuickBundles"
   ]
  },
  {
   "cell_type": "code",
   "execution_count": 9,
   "metadata": {},
   "outputs": [
    {
     "name": "stdout",
     "output_type": "stream",
     "text": [
      "Iniciando algoritmo\n"
     ]
    }
   ],
   "source": [
    "print('Iniciando algoritmo')\n",
    "metric=GPSDistance()\n",
    "qb=QuickBundles(threshold=0.001,metric=metric)"
   ]
  },
  {
   "cell_type": "code",
   "execution_count": 10,
   "metadata": {},
   "outputs": [
    {
     "name": "stdout",
     "output_type": "stream",
     "text": [
      "Numero de clusters,  7\n"
     ]
    }
   ],
   "source": [
    "clusters=qb.cluster(listarray)\n",
    "print('Numero de clusters, ',len(clusters))"
   ]
  },
  {
   "cell_type": "markdown",
   "metadata": {},
   "source": [
    "Step 4: Read clusters from results and draw on map"
   ]
  },
  {
   "cell_type": "code",
   "execution_count": 11,
   "metadata": {},
   "outputs": [
    {
     "name": "stdout",
     "output_type": "stream",
     "text": [
      "Tengo 5  clusters validos\n"
     ]
    }
   ],
   "source": [
    "outProj = Proj(init='epsg:3857')\n",
    "inProj = Proj(init='epsg:4326')\n",
    "color=['b', 'g', 'r', 'c', 'm', 'y', 'k', 'w']\n",
    "cnt=0\n",
    "for i in range(0,len(clusters)):\n",
    "    if len(clusters[i].indices) > 2:\n",
    "        cnt=cnt+1\n",
    "        for j in clusters[i].indices:\n",
    "            lista=listarray[j]\n",
    "            line =LineString(lista)\n",
    "            x,y=transform(inProj,outProj,line.coords.xy[0],line.coords.xy[1])\n",
    "            ax2.plot(x,y,color[i%8])\n",
    "print(\"Tengo\" ,cnt, \" clusters validos\")\n",
    "add_basemap(ax2, zoom=15)\n",
    "plt.show()"
   ]
  },
  {
   "cell_type": "code",
   "execution_count": null,
   "metadata": {},
   "outputs": [],
   "source": []
  }
 ],
 "metadata": {
  "kernelspec": {
   "display_name": "Python 3 (ipykernel)",
   "language": "python",
   "name": "python3"
  },
  "language_info": {
   "codemirror_mode": {
    "name": "ipython",
    "version": 3
   },
   "file_extension": ".py",
   "mimetype": "text/x-python",
   "name": "python",
   "nbconvert_exporter": "python",
   "pygments_lexer": "ipython3",
   "version": "3.10.8"
  },
  "vscode": {
   "interpreter": {
    "hash": "9cec3fb8d3e34fef383cc56969eff0124f5c94362f1835a36cd9b05978e21def"
   }
  }
 },
 "nbformat": 4,
 "nbformat_minor": 2
}
