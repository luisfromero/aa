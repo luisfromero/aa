{
 "cells": [
  {
   "cell_type": "code",
   "execution_count": 1,
   "id": "6bc91da7",
   "metadata": {},
   "outputs": [],
   "source": [
    "import psycopg2"
   ]
  },
  {
   "cell_type": "code",
   "execution_count": 34,
   "id": "aae6afac",
   "metadata": {},
   "outputs": [
    {
     "name": "stdout",
     "output_type": "stream",
     "text": [
      "(541235, 0.10700000077486038, 0.17599999904632568, -0.6100000143051147, 109.0, 0.0, 80.0, 25.399999618530273, 0.0, 219.10000610351562, 0.0, 4.9019999504089355, 7.452000141143799, 4.073999881744385, 4.5, 18.0, 0.0, 36.73823928833008, 35.099998474121094, -4.4183759689331055, 16.229999542236328, 4494, 1055.0, 0.0, '0101000000000000C06AAC11C0000000A07E5E4240', 0.0, datetime.datetime(2019, 1, 29, 7, 49, 42, 7000), 0.0, 15.0, 0.0, 527)\n"
     ]
    }
   ],
   "source": [
    "conn = psycopg2.connect(\"dbname = 'mlearn' user = 'ml_aa01' host = 'obd.ac.uma.es' password = 'vc0910$$'\")\n",
    "cur = conn.cursor()\n",
    "sql=\"select * from tripsample\"\n",
    "cur.execute(sql)\n",
    "result = cur.fetchone()\n",
    "print(result)\n",
    "cur.close()"
   ]
  },
  {
   "cell_type": "code",
   "execution_count": 16,
   "id": "f724fc75",
   "metadata": {},
   "outputs": [],
   "source": [
    "cur = conn.cursor()\n",
    "sql=\"select * from trip\"\n",
    "cur.execute(sql)\n",
    "result = cur.fetchone()\n",
    "cur.close()"
   ]
  },
  {
   "cell_type": "code",
   "execution_count": 27,
   "id": "6dad2597",
   "metadata": {},
   "outputs": [
    {
     "name": "stdout",
     "output_type": "stream",
     "text": [
      "('qgis_projects',)\n",
      "('spatial_ref_sys',)\n",
      "('geography_columns',)\n",
      "('geometry_columns',)\n"
     ]
    }
   ],
   "source": [
    "cur = conn.cursor()\n",
    "cur.execute(\"SELECT table_name FROM information_schema.tables WHERE table_schema = 'public'; \")\n",
    "for table in cur.fetchall():\n",
    "    print(table)\n",
    "cur.close()\n"
   ]
  },
  {
   "cell_type": "code",
   "execution_count": null,
   "id": "bb47c252",
   "metadata": {},
   "outputs": [],
   "source": []
  }
 ],
 "metadata": {
  "kernelspec": {
   "display_name": "Python 3 (ipykernel)",
   "language": "python",
   "name": "python3"
  },
  "language_info": {
   "codemirror_mode": {
    "name": "ipython",
    "version": 3
   },
   "file_extension": ".py",
   "mimetype": "text/x-python",
   "name": "python",
   "nbconvert_exporter": "python",
   "pygments_lexer": "ipython3",
   "version": "3.9.7"
  }
 },
 "nbformat": 4,
 "nbformat_minor": 5
}
