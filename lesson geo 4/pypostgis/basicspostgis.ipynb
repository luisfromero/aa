{
 "cells": [
  {
   "cell_type": "markdown",
   "id": "48e10674",
   "metadata": {},
   "source": [
    "### Py-PostGIS essentials\n",
    "\n",
    "Psycopg is the most popular PostgreSQL database adapter for the Python programming language. It was designed for heavily multi-threaded applications that create and destroy lots of cursors and make a large number of concurrent “INSERT”s or “UPDATE”s.\n",
    "\n",
    "Psycopg 2 is mostly implemented in C as a libpq wrapper, resulting in being both efficient and secure. "
   ]
  },
  {
   "cell_type": "code",
   "execution_count": 1,
   "id": "21352118",
   "metadata": {},
   "outputs": [],
   "source": [
    "import psycopg2\n",
    "conn = psycopg2.connect(\"dbname = 'mlearn' user = 'ml_aa03' host = 'obd.ac.uma.es' password = 'vc0910$$'\")\n"
   ]
  },
  {
   "cell_type": "markdown",
   "id": "c58570dd",
   "metadata": {},
   "source": [
    "En bases de datos, el término cursor se refiere a una estructura de control utilizada para el recorrido (y potencial procesamiento) de los registros del resultado de una consulta. Un cursor se utiliza para el procesamiento individual de las filas devueltas por el sistema gestor de base de datos para una consulta."
   ]
  },
  {
   "cell_type": "code",
   "execution_count": 51,
   "id": "c0594613",
   "metadata": {},
   "outputs": [
    {
     "name": "stdout",
     "output_type": "stream",
     "text": [
      "(913, 827.0944534500001, datetime.datetime(2019, 10, 26, 13, 38, 25, 325000), 0, datetime.datetime(2019, 10, 26, 13, 34, 57, 682000), '0102000000120000000000006065D911C0000000C0D3584240000000C04EDA11C000000060BD584240000000A027DC11C0000000E092584240000000E066DC11C0000000E08F584240000000C0A1DC11C00000006091584240000000A0B7DC11C00000002095584240000000E0B2DC11C0000000E0995842400000008075DC11C000000060A75842400000006061DC11C000000020AE58424000000080F9DB11C000000020D458424000000020E6DB11C0000000C0DF58424000000040EADB11C000000020E25842400000000003DC11C000000080E5584240000000206CDC11C000000060EA5842400000008032DD11C0000000C0F5584240000000E035DD11C0000000C0F85842400000006014DD11C000000020FA5842400000002004DD11C000000080FD584240', 15, 13)\n"
     ]
    }
   ],
   "source": [
    "cur = conn.cursor()\n",
    "sql=\"select * from trip where distance < 900;\"\n",
    "cur.execute(sql)\n",
    "result = cur.fetchone()\n",
    "print(result)\n",
    "cur.close()  # Cursors can be reused, but not after closing"
   ]
  },
  {
   "cell_type": "code",
   "execution_count": 2,
   "id": "a7e5f264",
   "metadata": {},
   "outputs": [
    {
     "name": "stdout",
     "output_type": "stream",
     "text": [
      "(532,)\n"
     ]
    }
   ],
   "source": [
    "cur = conn.cursor()\n",
    "sql=\"select count(*) from trip;\"\n",
    "cur.execute(sql)\n",
    "print(cur.fetchone())\n",
    "cur.close()"
   ]
  },
  {
   "cell_type": "code",
   "execution_count": 27,
   "id": "7a081554",
   "metadata": {},
   "outputs": [
    {
     "name": "stdout",
     "output_type": "stream",
     "text": [
      "('qgis_projects',)\n",
      "('spatial_ref_sys',)\n",
      "('geography_columns',)\n",
      "('geometry_columns',)\n"
     ]
    }
   ],
   "source": [
    "cur = conn.cursor()\n",
    "cur.execute(\"SELECT table_name FROM information_schema.tables WHERE table_schema = 'public'; \")\n",
    "for table in cur.fetchall():\n",
    "    print(table)\n",
    "cur.close()\n"
   ]
  },
  {
   "cell_type": "code",
   "execution_count": null,
   "id": "4e6a58bb",
   "metadata": {},
   "outputs": [],
   "source": []
  }
 ],
 "metadata": {
  "kernelspec": {
   "display_name": "Python 3.9.5 64-bit",
   "language": "python",
   "name": "python3"
  },
  "language_info": {
   "codemirror_mode": {
    "name": "ipython",
    "version": 3
   },
   "file_extension": ".py",
   "mimetype": "text/x-python",
   "name": "python",
   "nbconvert_exporter": "python",
   "pygments_lexer": "ipython3",
   "version": "3.9.5"
  },
  "vscode": {
   "interpreter": {
    "hash": "5cb3512f1c9d3b4182744332830fcfdbcb6addebadb090fe43c13881056e483a"
   }
  }
 },
 "nbformat": 4,
 "nbformat_minor": 5
}
