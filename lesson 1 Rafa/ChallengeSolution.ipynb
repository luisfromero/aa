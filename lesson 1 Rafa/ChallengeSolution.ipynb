{
 "cells": [
  {
   "cell_type": "markdown",
   "metadata": {},
   "source": [
    "# Challenge\n",
    "\n",
    "## Problem\n",
    "\n",
    "A travel agency has a database with the delays per month and day of several flight companies in the United States. In this challenge the agency ask us for help. They want to know which companies are more convenient to fly with. The precise question is:\n",
    "\n",
    "* What has been the average delay of each company for each month of the year?\n",
    "\n",
    "**Do not use Pandas** to implement the python code that answers this question.\n",
    "\n",
    "## Input data\n",
    "\n",
    "The file `flightDelays.csv` contains information about the delay of U.S. flights. The format is: \n",
    "\n",
    "    month, day of the month, company ID, company acronym, delay\n",
    "    \n",
    "Note that it is possible that for some days or even months some airlines do not have delay information.\n",
    "\n",
    "Also note that there may be negative delay values which should not be counted in the computation.\n",
    "\n",
    "## Solution\n",
    "\n",
    "In the file `solution.txt` you can find the solution and the expected output format. The file format is as follows:\n",
    "\n",
    "Company ID-month, delayMedium\n",
    "\n",
    "Note that the output is sorted from lowest to highest company ID, and for each company from lowest to highest number of month.\n",
    "\n",
    "You can also use the script `compare_valid_solution.py <input_file>` to check if the solution is valid. "
   ]
  },
  {
   "cell_type": "code",
   "execution_count": 1,
   "metadata": {},
   "outputs": [
    {
     "name": "stdout",
     "output_type": "stream",
     "text": [
      "03-Cython.pdf\t\t InterfacingCwithCython.ipynb  prun0\r\n",
      "byhand\t\t\t lprof0\t\t\t       prunRapido\r\n",
      "Challenge2-Cython.ipynb  lprof1\t\t\t       __pycache__\r\n",
      "ChallengeSolution.ipynb  manual\t\t\t       simulation.py\r\n",
      "Cython.ipynb\t\t memscript.py\t\t       Solution.txt\r\n",
      "flightDelays.csv\t mpg.csv\t\t       wrapfib\r\n",
      "interactive\t\t mprof0\t\t\t       wraprapido\r\n"
     ]
    }
   ],
   "source": [
    "!ls"
   ]
  },
  {
   "cell_type": "code",
   "execution_count": 2,
   "metadata": {},
   "outputs": [
    {
     "name": "stdout",
     "output_type": "stream",
     "text": [
      "6592128\n"
     ]
    }
   ],
   "source": [
    "import csv\n",
    "\n",
    "with open('flightDelays.csv') as csvfile:\n",
    "    fd=list(csv.DictReader(csvfile))\n",
    "print(len(fd))"
   ]
  },
  {
   "cell_type": "code",
   "execution_count": 3,
   "metadata": {},
   "outputs": [],
   "source": [
    "def retoA(fdelays):\n",
    "    flight_dict = {}\n",
    "    for d in fdelays:\n",
    "        cur_key = str(d['compID']) + '-' + str(d['month'])\n",
    "        if ( cur_key in flight_dict and float(d['delay']) > 0):\n",
    "            flight_dict[cur_key][0] += float(d['delay'])\n",
    "            flight_dict[cur_key][1] += 1\n",
    "        elif (float(d['delay']) > 0):\n",
    "            flight_dict[cur_key] = [float(d['delay']),1]\n",
    "\n",
    "    y=[(x[0],x[1][0]/x[1][1]) for x in flight_dict.items()]\n",
    "    y.sort(key=lambda x: x[0])\n",
    "    return y"
   ]
  },
  {
   "cell_type": "code",
   "execution_count": 4,
   "metadata": {},
   "outputs": [],
   "source": [
    "def retoB(flights):\n",
    "    result_dict = {}\n",
    "    for row in flights:\n",
    "        if float(row['delay']) > 0.0:\n",
    "            curr_str = row['compID'] + '-' + row['month']\n",
    "            current_dict = result_dict.get(curr_str, [0,0])\n",
    "            current_dict[0] += 1\n",
    "            current_dict[1] += float(row['delay'])\n",
    "            result_dict[curr_str] = current_dict\n",
    "\n",
    "    y = [(a, b[1]/b[0]) for a,b in result_dict.items()]\n",
    "    y.sort(key=lambda x: x[0])\n",
    "    return y"
   ]
  },
  {
   "cell_type": "code",
   "execution_count": 5,
   "metadata": {},
   "outputs": [
    {
     "name": "stdout",
     "output_type": "stream",
     "text": [
      "[1, 2, 5, 6]\n"
     ]
    },
    {
     "data": {
      "text/plain": [
       "[6, 8]"
      ]
     },
     "execution_count": 5,
     "metadata": {},
     "output_type": "execute_result"
    }
   ],
   "source": [
    "from operator import add\n",
    "mia=[1,2]\n",
    "mib=[5,6]\n",
    "print(mia+mib)\n",
    "list(map(add,mia,mib))"
   ]
  },
  {
   "cell_type": "code",
   "execution_count": 6,
   "metadata": {},
   "outputs": [],
   "source": [
    "from operator import add\n",
    "def retoC(mpg):    \n",
    "    histo={}\n",
    "    for d in mpg:\n",
    "        delay = float(d['delay'])\n",
    "        key = d['compID']+'-'+d['month']\n",
    "        if(key in histo and delay>0):\n",
    "            #histo[key]=list(map(add,histo[key],[delay,1]))\n",
    "            histo[key][0]+=delay\n",
    "            histo[key][1]+=1\n",
    "        elif (delay>0):\n",
    "            histo[key]=[delay,1]\n",
    "\n",
    "    result=[(x[0],x[1][0]/x[1][1]) for x in histo.items()]\n",
    "\n",
    "    result.sort(key=lambda x: x[0])\n",
    "    return result"
   ]
  },
  {
   "cell_type": "code",
   "execution_count": null,
   "metadata": {},
   "outputs": [],
   "source": [
    "r=retoA(fd)\n",
    "for i,j in r:\n",
    "    print(\"{0}, {1:.4f}\".format(i,j))"
   ]
  },
  {
   "cell_type": "code",
   "execution_count": null,
   "metadata": {},
   "outputs": [],
   "source": [
    "r=retoB(fd)\n",
    "for i,j in r:\n",
    "    print(\"{0}, {1:.4f}\".format(i,j))"
   ]
  },
  {
   "cell_type": "code",
   "execution_count": null,
   "metadata": {},
   "outputs": [],
   "source": [
    "r=retoC(fd)\n",
    "for i,j in r:\n",
    "    print(\"{0}, {1:.4f}\".format(i,j))"
   ]
  },
  {
   "cell_type": "code",
   "execution_count": 7,
   "metadata": {},
   "outputs": [
    {
     "name": "stdout",
     "output_type": "stream",
     "text": [
      "5.44 s ± 658 µs per loop (mean ± std. dev. of 7 runs, 1 loop each)\n"
     ]
    }
   ],
   "source": [
    "%timeit retoA(fd)"
   ]
  },
  {
   "cell_type": "code",
   "execution_count": 8,
   "metadata": {},
   "outputs": [
    {
     "name": "stdout",
     "output_type": "stream",
     "text": [
      "2.67 s ± 8.3 ms per loop (mean ± std. dev. of 7 runs, 1 loop each)\n"
     ]
    }
   ],
   "source": [
    "%timeit retoB(fd)"
   ]
  },
  {
   "cell_type": "code",
   "execution_count": 9,
   "metadata": {},
   "outputs": [
    {
     "name": "stdout",
     "output_type": "stream",
     "text": [
      "3.1 s ± 558 µs per loop (mean ± std. dev. of 7 runs, 1 loop each)\n"
     ]
    }
   ],
   "source": [
    "%timeit retoC(fd)"
   ]
  },
  {
   "cell_type": "markdown",
   "metadata": {},
   "source": [
    "# Other alternatives"
   ]
  },
  {
   "cell_type": "code",
   "execution_count": 16,
   "metadata": {},
   "outputs": [],
   "source": [
    "#Finding average \n",
    "\n",
    "def m_average(file):\n",
    "\n",
    "    dic_values={}\n",
    "    averages=[]\n",
    "    \n",
    "    for row in file:\n",
    "        key = row['compID']+'-'+ row['month']  \n",
    "        if not (key in dic_values):\n",
    "            dic_values[key]=[]#no match class data\n",
    "        if(float(row['delay']) > 0.0):\n",
    "            dic_values[key].append(float(row['delay']))#match class data\n",
    "   \n",
    "   #ordering\n",
    "    for names, v in sorted(dic_values.items()):#order list\n",
    "            average= (sum(v)/len(v))\n",
    "            #print(names, average)\n",
    "    \n",
    "    #averages.append((names, average))\n",
    "    #print(averages)"
   ]
  },
  {
   "cell_type": "code",
   "execution_count": 17,
   "metadata": {},
   "outputs": [
    {
     "name": "stdout",
     "output_type": "stream",
     "text": [
      "3.26 s ± 1.8 ms per loop (mean ± std. dev. of 7 runs, 1 loop each)\n"
     ]
    }
   ],
   "source": [
    "    \n",
    "%timeit m_average(fd)\n",
    "#m_average(mpg)"
   ]
  },
  {
   "cell_type": "markdown",
   "metadata": {},
   "source": [
    "### With Pandas"
   ]
  },
  {
   "cell_type": "code",
   "execution_count": 18,
   "metadata": {},
   "outputs": [],
   "source": [
    "import math\n",
    "import numpy as np\n",
    "import pandas as pd\n",
    "import scipy.stats as stats\n",
    "\n",
    "#reads dataframe\n",
    "df = pd.read_csv(\"flightDelays.csv\")\n"
   ]
  },
  {
   "cell_type": "markdown",
   "metadata": {},
   "source": [
    "Dropping compName column"
   ]
  },
  {
   "cell_type": "code",
   "execution_count": 19,
   "metadata": {},
   "outputs": [],
   "source": [
    "df = df.drop(['compName', 'day'], 1)"
   ]
  },
  {
   "cell_type": "markdown",
   "metadata": {},
   "source": [
    "- Dropping 'no delay' entries\n",
    "- grouping by compID and month\n",
    "- resetting index"
   ]
  },
  {
   "cell_type": "code",
   "execution_count": 20,
   "metadata": {},
   "outputs": [
    {
     "name": "stdout",
     "output_type": "stream",
     "text": [
      "152 ms ± 555 µs per loop (mean ± std. dev. of 7 runs, 10 loops each)\n"
     ]
    }
   ],
   "source": [
    "%timeit df[df['delay']>0].groupby(['compID','month']).mean().reset_index()"
   ]
  },
  {
   "cell_type": "code",
   "execution_count": 21,
   "metadata": {},
   "outputs": [],
   "source": [
    "df = df[df['delay']>0].groupby(['compID','month']).mean().reset_index()"
   ]
  },
  {
   "cell_type": "markdown",
   "metadata": {},
   "source": [
    "Pretty printing (to adjust to compare_valid_solution.py format)"
   ]
  },
  {
   "cell_type": "code",
   "execution_count": 22,
   "metadata": {},
   "outputs": [],
   "source": [
    "df['compID']= df['compID'].map(str) + \"-\" + df[\"month\"].map(str)\n",
    "\n",
    "df = df.drop('month', 1)\n",
    "df['delay'] = df['delay'].round(4).map(str)\n",
    "df['delay'] = \" \" + df['delay']"
   ]
  },
  {
   "cell_type": "code",
   "execution_count": 23,
   "metadata": {},
   "outputs": [],
   "source": [
    "#Exporting\n",
    "\n",
    "df.to_csv('Solution.txt', header=None, index=None, sep=\",\")"
   ]
  },
  {
   "cell_type": "markdown",
   "metadata": {},
   "source": [
    "### Implement Cython Version"
   ]
  },
  {
   "cell_type": "code",
   "execution_count": 26,
   "metadata": {},
   "outputs": [
    {
     "name": "stdout",
     "output_type": "stream",
     "text": [
      "1.86 s ± 5.17 ms per loop (mean ± std. dev. of 7 runs, 1 loop each)\n"
     ]
    }
   ],
   "source": [
    "%timeit retoD(fd)"
   ]
  },
  {
   "cell_type": "markdown",
   "metadata": {},
   "source": [
    "### Implement C++ version wrapped with Cython Version"
   ]
  },
  {
   "cell_type": "code",
   "execution_count": null,
   "metadata": {},
   "outputs": [],
   "source": []
  }
 ],
 "metadata": {
  "kernelspec": {
   "display_name": "Python 3",
   "language": "python",
   "name": "python3"
  },
  "language_info": {
   "codemirror_mode": {
    "name": "ipython",
    "version": 3
   },
   "file_extension": ".py",
   "mimetype": "text/x-python",
   "name": "python",
   "nbconvert_exporter": "python",
   "pygments_lexer": "ipython3",
   "version": "3.7.3"
  }
 },
 "nbformat": 4,
 "nbformat_minor": 2
}
