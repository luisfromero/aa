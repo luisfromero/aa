{
 "cells": [
  {
   "cell_type": "markdown",
   "metadata": {},
   "source": [
    "# Comandos PostGIS útiles\n",
    "\n",
    "## Y distintas formas de acceder desde python (pandas, geopandas, "
   ]
  },
  {
   "cell_type": "code",
   "execution_count": 10,
   "metadata": {},
   "outputs": [],
   "source": [
    "def modo1(conn,sql):\n",
    "    print(\"Ejecutando \"+sql)\n",
    "    try:\n",
    "        cur = conn.cursor()\n",
    "        cur.execute(sql)\n",
    "        #while cur.description is not None:\n",
    "        print(cur.statusmessage)\n",
    "        result = cur.fetchall()\n",
    "        conn.close()\n",
    "        sys.stdout.write('Accesed database environment successfully.\\n')\n",
    "        return result\n",
    "    except psycopg2.Error:\n",
    "        raise SystemExit(\n",
    "            'Failed to setup Postgres environment.\\n{0}'.format(sys.exc_info())\n",
    "        )\n",
    "    return None\n",
    "\n",
    "def modo2(conn,sql):\n",
    "    result = gpd.GeoDataFrame.from_postgis(sql, conn, geom_col='trayectos', crs  ={'init': 'epsg:4326'} )#.to_crs(epsg=3857)\n",
    "    conn.close()\n",
    "    return result"
   ]
  },
  {
   "cell_type": "code",
   "execution_count": 11,
   "metadata": {},
   "outputs": [],
   "source": [
    "#set up psycopg2 environment\n",
    "import sys, os\n",
    "import psycopg2\n",
    "import geopandas as gpd\n",
    "import pandas as pd\n",
    "import matplotlib.pyplot as plt\n",
    "import numpy as np"
   ]
  },
  {
   "cell_type": "code",
   "execution_count": 12,
   "metadata": {},
   "outputs": [],
   "source": [
    "querys=[\n",
    "    \"SELECT * FROM pg_catalog.pg_tables WHERE schemaname != 'pg_catalog' AND schemaname != 'information_schema';\", #List tablas\n",
    "    \"SELECT postgis_version();\",\n",
    "    \"SELECT * from car;\",\n",
    "    \"SELECT idtrip,ST_Length(tripline),distance from trip where starttime > timestamp '2019-09-11' ;\",\n",
    "    \"DROP table candidatos2;\",\n",
    "    \n",
    "    \n",
    "    \"SELECT driver_iddriver as conductor, avg(distance) as promedio  \\\n",
    "    FROM Trip where starttime > timestamp '2019-07-01' group by driver_iddriver;\",\n",
    "    \n",
    "    \"SELECT idtrip,ST_Length((tripline))*100,distance from trip where distance <> 0 AND (ST_Length((tripline))*100-distance)/distance < 0.05;\",\n",
    "    \n",
    "    \"CREATE TABLE candidatos2 AS SELECT idtrip,distance,\\\n",
    "     ST_Intersection(tripline, ST_MakeEnvelope(-4.512359,36.703857, -4.455261,36.736785))::geometry as trayectos \\\n",
    "     FROM simplified_trip WHERE  \\\n",
    "     ST_Intersects(tripline, ST_MakeEnvelope(-4.512359,36.703857 , -4.455261,36.736785, 4326)::geography);\",\n",
    "\n",
    "     \"CREATE TABLE candidatos AS SELECT idtrip,distance,\\\n",
    "     ST_LineMerge(ST_Intersection(tripline, ST_MakeEnvelope(-4.512359,36.703857, -4.455261,36.736785))::geometry) as trayectos \\\n",
    "     FROM simplified_trip WHERE  \\\n",
    "     ST_Intersects(tripline, ST_MakeEnvelope(-4.512359,36.703857 , -4.455261,36.736785, 4326)::geography) \\\n",
    "     AND  distance <> 0 AND (ST_Length((tripline))*100-distance)/distance < 0.05;\",\n",
    "\n",
    "    \"select idtrip,st_npoints(tripline),st_numgeometries(tripline), (select count(*) \\\n",
    "    from tripsample where trip_idtrip = idtrip) as nodos  from trip  where starttime > timestamp '2019-10-1' order by idtrip;\",\n",
    "    \n",
    "    \"SELECT min(trip_idtrip) as idtrip, max(nsamples) as sample_cnt, \\\n",
    "    min(starttime) as start_time, min(vehspeed) as minspeed, max(vehspeed) as maxspeed, \\\n",
    "    max(toffset) as tot_time, sum(dspace) as tot_space, sum(dfuel) as tot_fuel_l, sum(dfuel)/sum(dspace) as fuel_lpermeter,\\\n",
    "    date_part('dow',MIN(starttime)) + date_part('hour',MIN(starttime)) / 24.0 as weekoffset_days, \\\n",
    "\tdate_part('dow',MIN(starttime)) as day_of_week, date_part('hour',MIN(starttime)) as hour_of_day \\\n",
    "    FROM tripsamples_path  WHERE time > TIMESTAMP '2018-07-01' GROUP BY trip_idtrip;\"\n",
    "    \n",
    "    \n",
    "\n",
    "]    "
   ]
  },
  {
   "cell_type": "code",
   "execution_count": 13,
   "metadata": {},
   "outputs": [
    {
     "name": "stdout",
     "output_type": "stream",
     "text": [
      "Ejecutando select * from candidatos;\n",
      "SELECT 176\n",
      "Accesed database environment successfully.\n"
     ]
    },
    {
     "data": {
      "text/plain": [
       "(588,\n",
       " 18.8397521972656,\n",
       " '010200000020000000B89388F02FD211C0494A7A185A5B42407C0DC17119D711C01D90847D3B5B4240EB89AE0B3FD811C0137EA99F375B42401BB7989F1BDA11C08AAE0B3F385B42408DEF8B4B55EA11C0FFEA71DF6A5B42403657CD7344EE11C02E3BC43F6C5B4240300E2E1D73EE11C0CDCAF6216F5B4240BEA085048CEE11C0834E081D745B42405D4D9EB29AEE11C06EC1525DC05B42403A1E335019EF11C09C685721E55B4240FC1BB4571FEF11C024ED461FF35B4240EFC3414294EF11C041EF8D21005C4240A4DDE8633EF011C08369183E225C42403EB0E3BF40F011C0F1D8CF62295C4240774CDD955DF011C07DC9C6832D5C424005FC1A4982F011C0F4F928232E5C4240541D7233DCF011C01C08C902265C424089B0E1E995F211C0B6D4415E0F5C42400585419946F311C0ACC266800B5C42401361C3D32BF511C0592E1B9DF35B4240130F289B72F511C0B08C0DDDEC5B4240FB8EE1B19FF511C01FF64201DB5B4240574277499CF511C0382F4E7CB55B4240EACBD24ECDF511C0B4CBB73EAC5B424029779FE3A3F511C029779FE3A35B4240685C381092F511C0CD55F31C915B42404528B682A6F511C0C022BF7E885B424067EDB60BCDF511C06E30D461855B424067B8019F1FF611C0527FBDC2825B4240F44C2F3196F911C0CFA0A17F825B42402749D74CBEF911C039EFFFE3845B4240CC785BE9B5F911C0CD55F31C915B4240')"
      ]
     },
     "execution_count": 13,
     "metadata": {},
     "output_type": "execute_result"
    }
   ],
   "source": [
    "conn = psycopg2.connect(\"dbname = 'umaobd' user = 'obd_readpriv' host = 'atomic3.dmz.ac.uma.es' password = 'vc0910$$'\")\n",
    "result=modo1(conn,\"select * from candidatos;\")\n",
    "result[0]"
   ]
  },
  {
   "cell_type": "code",
   "execution_count": 14,
   "metadata": {},
   "outputs": [
    {
     "data": {
      "text/html": [
       "<div>\n",
       "<style scoped>\n",
       "    .dataframe tbody tr th:only-of-type {\n",
       "        vertical-align: middle;\n",
       "    }\n",
       "\n",
       "    .dataframe tbody tr th {\n",
       "        vertical-align: top;\n",
       "    }\n",
       "\n",
       "    .dataframe thead th {\n",
       "        text-align: right;\n",
       "    }\n",
       "</style>\n",
       "<table border=\"1\" class=\"dataframe\">\n",
       "  <thead>\n",
       "    <tr style=\"text-align: right;\">\n",
       "      <th></th>\n",
       "      <th>idtrip</th>\n",
       "      <th>distance</th>\n",
       "      <th>trayectos</th>\n",
       "    </tr>\n",
       "  </thead>\n",
       "  <tbody>\n",
       "    <tr>\n",
       "      <th>0</th>\n",
       "      <td>588</td>\n",
       "      <td>18.839752</td>\n",
       "      <td>LINESTRING (-4.455261 36.713687, -4.460058 36....</td>\n",
       "    </tr>\n",
       "    <tr>\n",
       "      <th>1</th>\n",
       "      <td>74</td>\n",
       "      <td>6.847943</td>\n",
       "      <td>LINESTRING (-4.477214 36.715649, -4.4770949999...</td>\n",
       "    </tr>\n",
       "    <tr>\n",
       "      <th>2</th>\n",
       "      <td>34</td>\n",
       "      <td>109.317841</td>\n",
       "      <td>LINESTRING (-4.512359 36.711619, -4.507536 36....</td>\n",
       "    </tr>\n",
       "    <tr>\n",
       "      <th>3</th>\n",
       "      <td>37</td>\n",
       "      <td>7.124002</td>\n",
       "      <td>(LINESTRING (-4.457788 36.713185, -4.457853 36...</td>\n",
       "    </tr>\n",
       "    <tr>\n",
       "      <th>4</th>\n",
       "      <td>10</td>\n",
       "      <td>0.065981</td>\n",
       "      <td>LINESTRING (-4.472852 36.71299399999999, -4.47...</td>\n",
       "    </tr>\n",
       "  </tbody>\n",
       "</table>\n",
       "</div>"
      ],
      "text/plain": [
       "   idtrip    distance                                          trayectos\n",
       "0     588   18.839752  LINESTRING (-4.455261 36.713687, -4.460058 36....\n",
       "1      74    6.847943  LINESTRING (-4.477214 36.715649, -4.4770949999...\n",
       "2      34  109.317841  LINESTRING (-4.512359 36.711619, -4.507536 36....\n",
       "3      37    7.124002  (LINESTRING (-4.457788 36.713185, -4.457853 36...\n",
       "4      10    0.065981  LINESTRING (-4.472852 36.71299399999999, -4.47..."
      ]
     },
     "execution_count": 14,
     "metadata": {},
     "output_type": "execute_result"
    }
   ],
   "source": [
    "conn = psycopg2.connect(\"dbname = 'umaobd' user = 'obd_readpriv' host = 'atomic3.dmz.ac.uma.es' password = 'vc0910$$'\")\n",
    "result=modo2(conn,\"select * from candidatos\")\n",
    "result.head()"
   ]
  },
  {
   "cell_type": "code",
   "execution_count": null,
   "metadata": {},
   "outputs": [],
   "source": []
  },
  {
   "cell_type": "code",
   "execution_count": null,
   "metadata": {},
   "outputs": [],
   "source": []
  }
 ],
 "metadata": {
  "celltoolbar": "Attachments",
  "kernelspec": {
   "display_name": "Python 3 (ipykernel)",
   "language": "python",
   "name": "python3"
  },
  "language_info": {
   "codemirror_mode": {
    "name": "ipython",
    "version": 3
   },
   "file_extension": ".py",
   "mimetype": "text/x-python",
   "name": "python",
   "nbconvert_exporter": "python",
   "pygments_lexer": "ipython3",
   "version": "3.9.7"
  }
 },
 "nbformat": 4,
 "nbformat_minor": 4
}
